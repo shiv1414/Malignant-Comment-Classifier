{
 "cells": [
  {
   "cell_type": "code",
   "execution_count": 1,
   "id": "c8d47a0a",
   "metadata": {},
   "outputs": [],
   "source": [
    "import pandas as pd \n",
    "import numpy as np\n",
    "import matplotlib.pyplot as plt\n",
    "import seaborn as sns\n",
    "%matplotlib inline\n",
    "\n",
    "import warnings\n",
    "warnings.filterwarnings('ignore')"
   ]
  },
  {
   "cell_type": "code",
   "execution_count": 12,
   "id": "60566ec8",
   "metadata": {},
   "outputs": [
    {
     "data": {
      "text/html": [
       "<div>\n",
       "<style scoped>\n",
       "    .dataframe tbody tr th:only-of-type {\n",
       "        vertical-align: middle;\n",
       "    }\n",
       "\n",
       "    .dataframe tbody tr th {\n",
       "        vertical-align: top;\n",
       "    }\n",
       "\n",
       "    .dataframe thead th {\n",
       "        text-align: right;\n",
       "    }\n",
       "</style>\n",
       "<table border=\"1\" class=\"dataframe\">\n",
       "  <thead>\n",
       "    <tr style=\"text-align: right;\">\n",
       "      <th></th>\n",
       "      <th>id</th>\n",
       "      <th>comment_text</th>\n",
       "      <th>malignant</th>\n",
       "      <th>highly_malignant</th>\n",
       "      <th>rude</th>\n",
       "      <th>threat</th>\n",
       "      <th>abuse</th>\n",
       "      <th>loathe</th>\n",
       "    </tr>\n",
       "  </thead>\n",
       "  <tbody>\n",
       "    <tr>\n",
       "      <th>0</th>\n",
       "      <td>0000997932d777bf</td>\n",
       "      <td>Explanation\\nWhy the edits made under my usern...</td>\n",
       "      <td>0</td>\n",
       "      <td>0</td>\n",
       "      <td>0</td>\n",
       "      <td>0</td>\n",
       "      <td>0</td>\n",
       "      <td>0</td>\n",
       "    </tr>\n",
       "    <tr>\n",
       "      <th>1</th>\n",
       "      <td>000103f0d9cfb60f</td>\n",
       "      <td>D'aww! He matches this background colour I'm s...</td>\n",
       "      <td>0</td>\n",
       "      <td>0</td>\n",
       "      <td>0</td>\n",
       "      <td>0</td>\n",
       "      <td>0</td>\n",
       "      <td>0</td>\n",
       "    </tr>\n",
       "    <tr>\n",
       "      <th>2</th>\n",
       "      <td>000113f07ec002fd</td>\n",
       "      <td>Hey man, I'm really not trying to edit war. It...</td>\n",
       "      <td>0</td>\n",
       "      <td>0</td>\n",
       "      <td>0</td>\n",
       "      <td>0</td>\n",
       "      <td>0</td>\n",
       "      <td>0</td>\n",
       "    </tr>\n",
       "    <tr>\n",
       "      <th>3</th>\n",
       "      <td>0001b41b1c6bb37e</td>\n",
       "      <td>\"\\nMore\\nI can't make any real suggestions on ...</td>\n",
       "      <td>0</td>\n",
       "      <td>0</td>\n",
       "      <td>0</td>\n",
       "      <td>0</td>\n",
       "      <td>0</td>\n",
       "      <td>0</td>\n",
       "    </tr>\n",
       "    <tr>\n",
       "      <th>4</th>\n",
       "      <td>0001d958c54c6e35</td>\n",
       "      <td>You, sir, are my hero. Any chance you remember...</td>\n",
       "      <td>0</td>\n",
       "      <td>0</td>\n",
       "      <td>0</td>\n",
       "      <td>0</td>\n",
       "      <td>0</td>\n",
       "      <td>0</td>\n",
       "    </tr>\n",
       "  </tbody>\n",
       "</table>\n",
       "</div>"
      ],
      "text/plain": [
       "                 id                                       comment_text  \\\n",
       "0  0000997932d777bf  Explanation\\nWhy the edits made under my usern...   \n",
       "1  000103f0d9cfb60f  D'aww! He matches this background colour I'm s...   \n",
       "2  000113f07ec002fd  Hey man, I'm really not trying to edit war. It...   \n",
       "3  0001b41b1c6bb37e  \"\\nMore\\nI can't make any real suggestions on ...   \n",
       "4  0001d958c54c6e35  You, sir, are my hero. Any chance you remember...   \n",
       "\n",
       "   malignant  highly_malignant  rude  threat  abuse  loathe  \n",
       "0          0                 0     0       0      0       0  \n",
       "1          0                 0     0       0      0       0  \n",
       "2          0                 0     0       0      0       0  \n",
       "3          0                 0     0       0      0       0  \n",
       "4          0                 0     0       0      0       0  "
      ]
     },
     "execution_count": 12,
     "metadata": {},
     "output_type": "execute_result"
    }
   ],
   "source": [
    "data = pd.read_csv('train-malignant.csv')\n",
    "data.head()"
   ]
  },
  {
   "cell_type": "code",
   "execution_count": 11,
   "id": "2a512017",
   "metadata": {},
   "outputs": [
    {
     "data": {
      "text/html": [
       "<div>\n",
       "<style scoped>\n",
       "    .dataframe tbody tr th:only-of-type {\n",
       "        vertical-align: middle;\n",
       "    }\n",
       "\n",
       "    .dataframe tbody tr th {\n",
       "        vertical-align: top;\n",
       "    }\n",
       "\n",
       "    .dataframe thead th {\n",
       "        text-align: right;\n",
       "    }\n",
       "</style>\n",
       "<table border=\"1\" class=\"dataframe\">\n",
       "  <thead>\n",
       "    <tr style=\"text-align: right;\">\n",
       "      <th></th>\n",
       "      <th>id</th>\n",
       "      <th>comment_text</th>\n",
       "    </tr>\n",
       "  </thead>\n",
       "  <tbody>\n",
       "    <tr>\n",
       "      <th>0</th>\n",
       "      <td>00001cee341fdb12</td>\n",
       "      <td>Yo bitch Ja Rule is more succesful then you'll...</td>\n",
       "    </tr>\n",
       "    <tr>\n",
       "      <th>1</th>\n",
       "      <td>0000247867823ef7</td>\n",
       "      <td>== From RfC == \\n\\n The title is fine as it is...</td>\n",
       "    </tr>\n",
       "    <tr>\n",
       "      <th>2</th>\n",
       "      <td>00013b17ad220c46</td>\n",
       "      <td>\" \\n\\n == Sources == \\n\\n * Zawe Ashton on Lap...</td>\n",
       "    </tr>\n",
       "    <tr>\n",
       "      <th>3</th>\n",
       "      <td>00017563c3f7919a</td>\n",
       "      <td>:If you have a look back at the source, the in...</td>\n",
       "    </tr>\n",
       "    <tr>\n",
       "      <th>4</th>\n",
       "      <td>00017695ad8997eb</td>\n",
       "      <td>I don't anonymously edit articles at all.</td>\n",
       "    </tr>\n",
       "  </tbody>\n",
       "</table>\n",
       "</div>"
      ],
      "text/plain": [
       "                 id                                       comment_text\n",
       "0  00001cee341fdb12  Yo bitch Ja Rule is more succesful then you'll...\n",
       "1  0000247867823ef7  == From RfC == \\n\\n The title is fine as it is...\n",
       "2  00013b17ad220c46  \" \\n\\n == Sources == \\n\\n * Zawe Ashton on Lap...\n",
       "3  00017563c3f7919a  :If you have a look back at the source, the in...\n",
       "4  00017695ad8997eb          I don't anonymously edit articles at all."
      ]
     },
     "execution_count": 11,
     "metadata": {},
     "output_type": "execute_result"
    }
   ],
   "source": [
    "df = pd.read_csv('test-Malignant.csv')\n",
    "df.head()"
   ]
  },
  {
   "cell_type": "code",
   "execution_count": 14,
   "id": "26e4a3ad",
   "metadata": {},
   "outputs": [
    {
     "data": {
      "text/plain": [
       "((159571, 8), (153164, 2))"
      ]
     },
     "execution_count": 14,
     "metadata": {},
     "output_type": "execute_result"
    }
   ],
   "source": [
    "data.shape,df.shape\n"
   ]
  },
  {
   "cell_type": "code",
   "execution_count": 18,
   "id": "8c3379e1",
   "metadata": {},
   "outputs": [
    {
     "name": "stdout",
     "output_type": "stream",
     "text": [
      "data info\n",
      "\n",
      "\n",
      " <bound method DataFrame.info of                       id                                       comment_text  \\\n",
      "0       0000997932d777bf  Explanation\\nWhy the edits made under my usern...   \n",
      "1       000103f0d9cfb60f  D'aww! He matches this background colour I'm s...   \n",
      "2       000113f07ec002fd  Hey man, I'm really not trying to edit war. It...   \n",
      "3       0001b41b1c6bb37e  \"\\nMore\\nI can't make any real suggestions on ...   \n",
      "4       0001d958c54c6e35  You, sir, are my hero. Any chance you remember...   \n",
      "...                  ...                                                ...   \n",
      "159566  ffe987279560d7ff  \":::::And for the second time of asking, when ...   \n",
      "159567  ffea4adeee384e90  You should be ashamed of yourself \\n\\nThat is ...   \n",
      "159568  ffee36eab5c267c9  Spitzer \\n\\nUmm, theres no actual article for ...   \n",
      "159569  fff125370e4aaaf3  And it looks like it was actually you who put ...   \n",
      "159570  fff46fc426af1f9a  \"\\nAnd ... I really don't think you understand...   \n",
      "\n",
      "        malignant  highly_malignant  rude  threat  abuse  loathe  \n",
      "0               0                 0     0       0      0       0  \n",
      "1               0                 0     0       0      0       0  \n",
      "2               0                 0     0       0      0       0  \n",
      "3               0                 0     0       0      0       0  \n",
      "4               0                 0     0       0      0       0  \n",
      "...           ...               ...   ...     ...    ...     ...  \n",
      "159566          0                 0     0       0      0       0  \n",
      "159567          0                 0     0       0      0       0  \n",
      "159568          0                 0     0       0      0       0  \n",
      "159569          0                 0     0       0      0       0  \n",
      "159570          0                 0     0       0      0       0  \n",
      "\n",
      "[159571 rows x 8 columns]>\n"
     ]
    }
   ],
   "source": [
    "print('data info\\n\\n\\n',data.info)"
   ]
  },
  {
   "cell_type": "code",
   "execution_count": 19,
   "id": "d9816c49",
   "metadata": {},
   "outputs": [
    {
     "name": "stdout",
     "output_type": "stream",
     "text": [
      "df info\n",
      "\n",
      "\n",
      " <bound method DataFrame.info of                       id                                       comment_text\n",
      "0       00001cee341fdb12  Yo bitch Ja Rule is more succesful then you'll...\n",
      "1       0000247867823ef7  == From RfC == \\n\\n The title is fine as it is...\n",
      "2       00013b17ad220c46  \" \\n\\n == Sources == \\n\\n * Zawe Ashton on Lap...\n",
      "3       00017563c3f7919a  :If you have a look back at the source, the in...\n",
      "4       00017695ad8997eb          I don't anonymously edit articles at all.\n",
      "...                  ...                                                ...\n",
      "153159  fffcd0960ee309b5  . \\n i totally agree, this stuff is nothing bu...\n",
      "153160  fffd7a9a6eb32c16  == Throw from out field to home plate. == \\n\\n...\n",
      "153161  fffda9e8d6fafa9e  \" \\n\\n == Okinotorishima categories == \\n\\n I ...\n",
      "153162  fffe8f1340a79fc2  \" \\n\\n == \"\"One of the founding nations of the...\n",
      "153163  ffffce3fb183ee80  \" \\n :::Stop already. Your bullshit is not wel...\n",
      "\n",
      "[153164 rows x 2 columns]>\n"
     ]
    }
   ],
   "source": [
    "print('df info\\n\\n\\n',df.info)"
   ]
  },
  {
   "cell_type": "code",
   "execution_count": 20,
   "id": "e68bd539",
   "metadata": {},
   "outputs": [
    {
     "data": {
      "text/html": [
       "<div>\n",
       "<style scoped>\n",
       "    .dataframe tbody tr th:only-of-type {\n",
       "        vertical-align: middle;\n",
       "    }\n",
       "\n",
       "    .dataframe tbody tr th {\n",
       "        vertical-align: top;\n",
       "    }\n",
       "\n",
       "    .dataframe thead th {\n",
       "        text-align: right;\n",
       "    }\n",
       "</style>\n",
       "<table border=\"1\" class=\"dataframe\">\n",
       "  <thead>\n",
       "    <tr style=\"text-align: right;\">\n",
       "      <th></th>\n",
       "      <th>malignant</th>\n",
       "      <th>highly_malignant</th>\n",
       "      <th>rude</th>\n",
       "      <th>threat</th>\n",
       "      <th>abuse</th>\n",
       "      <th>loathe</th>\n",
       "    </tr>\n",
       "  </thead>\n",
       "  <tbody>\n",
       "    <tr>\n",
       "      <th>count</th>\n",
       "      <td>159571.000000</td>\n",
       "      <td>159571.000000</td>\n",
       "      <td>159571.000000</td>\n",
       "      <td>159571.000000</td>\n",
       "      <td>159571.000000</td>\n",
       "      <td>159571.000000</td>\n",
       "    </tr>\n",
       "    <tr>\n",
       "      <th>mean</th>\n",
       "      <td>0.095844</td>\n",
       "      <td>0.009996</td>\n",
       "      <td>0.052948</td>\n",
       "      <td>0.002996</td>\n",
       "      <td>0.049364</td>\n",
       "      <td>0.008805</td>\n",
       "    </tr>\n",
       "    <tr>\n",
       "      <th>std</th>\n",
       "      <td>0.294379</td>\n",
       "      <td>0.099477</td>\n",
       "      <td>0.223931</td>\n",
       "      <td>0.054650</td>\n",
       "      <td>0.216627</td>\n",
       "      <td>0.093420</td>\n",
       "    </tr>\n",
       "    <tr>\n",
       "      <th>min</th>\n",
       "      <td>0.000000</td>\n",
       "      <td>0.000000</td>\n",
       "      <td>0.000000</td>\n",
       "      <td>0.000000</td>\n",
       "      <td>0.000000</td>\n",
       "      <td>0.000000</td>\n",
       "    </tr>\n",
       "    <tr>\n",
       "      <th>25%</th>\n",
       "      <td>0.000000</td>\n",
       "      <td>0.000000</td>\n",
       "      <td>0.000000</td>\n",
       "      <td>0.000000</td>\n",
       "      <td>0.000000</td>\n",
       "      <td>0.000000</td>\n",
       "    </tr>\n",
       "    <tr>\n",
       "      <th>50%</th>\n",
       "      <td>0.000000</td>\n",
       "      <td>0.000000</td>\n",
       "      <td>0.000000</td>\n",
       "      <td>0.000000</td>\n",
       "      <td>0.000000</td>\n",
       "      <td>0.000000</td>\n",
       "    </tr>\n",
       "    <tr>\n",
       "      <th>75%</th>\n",
       "      <td>0.000000</td>\n",
       "      <td>0.000000</td>\n",
       "      <td>0.000000</td>\n",
       "      <td>0.000000</td>\n",
       "      <td>0.000000</td>\n",
       "      <td>0.000000</td>\n",
       "    </tr>\n",
       "    <tr>\n",
       "      <th>max</th>\n",
       "      <td>1.000000</td>\n",
       "      <td>1.000000</td>\n",
       "      <td>1.000000</td>\n",
       "      <td>1.000000</td>\n",
       "      <td>1.000000</td>\n",
       "      <td>1.000000</td>\n",
       "    </tr>\n",
       "  </tbody>\n",
       "</table>\n",
       "</div>"
      ],
      "text/plain": [
       "           malignant  highly_malignant           rude         threat  \\\n",
       "count  159571.000000     159571.000000  159571.000000  159571.000000   \n",
       "mean        0.095844          0.009996       0.052948       0.002996   \n",
       "std         0.294379          0.099477       0.223931       0.054650   \n",
       "min         0.000000          0.000000       0.000000       0.000000   \n",
       "25%         0.000000          0.000000       0.000000       0.000000   \n",
       "50%         0.000000          0.000000       0.000000       0.000000   \n",
       "75%         0.000000          0.000000       0.000000       0.000000   \n",
       "max         1.000000          1.000000       1.000000       1.000000   \n",
       "\n",
       "               abuse         loathe  \n",
       "count  159571.000000  159571.000000  \n",
       "mean        0.049364       0.008805  \n",
       "std         0.216627       0.093420  \n",
       "min         0.000000       0.000000  \n",
       "25%         0.000000       0.000000  \n",
       "50%         0.000000       0.000000  \n",
       "75%         0.000000       0.000000  \n",
       "max         1.000000       1.000000  "
      ]
     },
     "execution_count": 20,
     "metadata": {},
     "output_type": "execute_result"
    }
   ],
   "source": [
    "data.describe()"
   ]
  },
  {
   "cell_type": "code",
   "execution_count": 21,
   "id": "1bd10c3d",
   "metadata": {},
   "outputs": [
    {
     "data": {
      "text/html": [
       "<div>\n",
       "<style scoped>\n",
       "    .dataframe tbody tr th:only-of-type {\n",
       "        vertical-align: middle;\n",
       "    }\n",
       "\n",
       "    .dataframe tbody tr th {\n",
       "        vertical-align: top;\n",
       "    }\n",
       "\n",
       "    .dataframe thead th {\n",
       "        text-align: right;\n",
       "    }\n",
       "</style>\n",
       "<table border=\"1\" class=\"dataframe\">\n",
       "  <thead>\n",
       "    <tr style=\"text-align: right;\">\n",
       "      <th></th>\n",
       "      <th>id</th>\n",
       "      <th>comment_text</th>\n",
       "    </tr>\n",
       "  </thead>\n",
       "  <tbody>\n",
       "    <tr>\n",
       "      <th>count</th>\n",
       "      <td>153164</td>\n",
       "      <td>153164</td>\n",
       "    </tr>\n",
       "    <tr>\n",
       "      <th>unique</th>\n",
       "      <td>153164</td>\n",
       "      <td>153164</td>\n",
       "    </tr>\n",
       "    <tr>\n",
       "      <th>top</th>\n",
       "      <td>00001cee341fdb12</td>\n",
       "      <td>Yo bitch Ja Rule is more succesful then you'll...</td>\n",
       "    </tr>\n",
       "    <tr>\n",
       "      <th>freq</th>\n",
       "      <td>1</td>\n",
       "      <td>1</td>\n",
       "    </tr>\n",
       "  </tbody>\n",
       "</table>\n",
       "</div>"
      ],
      "text/plain": [
       "                      id                                       comment_text\n",
       "count             153164                                             153164\n",
       "unique            153164                                             153164\n",
       "top     00001cee341fdb12  Yo bitch Ja Rule is more succesful then you'll...\n",
       "freq                   1                                                  1"
      ]
     },
     "execution_count": 21,
     "metadata": {},
     "output_type": "execute_result"
    }
   ],
   "source": [
    "df.describe()"
   ]
  },
  {
   "cell_type": "code",
   "execution_count": 23,
   "id": "fad1e81a",
   "metadata": {},
   "outputs": [
    {
     "name": "stdout",
     "output_type": "stream",
     "text": [
      "id                  0\n",
      "comment_text        0\n",
      "malignant           0\n",
      "highly_malignant    0\n",
      "rude                0\n",
      "threat              0\n",
      "abuse               0\n",
      "loathe              0\n",
      "dtype: int64\n"
     ]
    }
   ],
   "source": [
    "# checking null values\n",
    "print(data.isnull().sum())"
   ]
  },
  {
   "cell_type": "code",
   "execution_count": 26,
   "id": "d63beb70",
   "metadata": {},
   "outputs": [
    {
     "data": {
      "text/plain": [
       "<AxesSubplot:>"
      ]
     },
     "execution_count": 26,
     "metadata": {},
     "output_type": "execute_result"
    },
    {
     "data": {
      "image/png": "[encoded data removed]",
      "text/plain": [
       "<Figure size 720x432 with 2 Axes>"
      ]
     },
     "metadata": {
      "needs_background": "light"
     },
     "output_type": "display_data"
    }
   ],
   "source": [
    "data.corr()\n",
    "plt.figure(figsize=(10,6))\n",
    "sns.heatmap(data=data.corr(),annot=True,linecolor='black',linewidth=0.2)"
   ]
  },
  {
   "cell_type": "markdown",
   "id": "887586fc",
   "metadata": {},
   "source": [
    "AS THE HEATMAP NOT SHOWING THAT THERE ARE ANY MULTICOLLINEARITY PRESENT"
   ]
  },
  {
   "cell_type": "code",
   "execution_count": 27,
   "id": "6083dda8",
   "metadata": {
    "scrolled": false
   },
   "outputs": [
    {
     "name": "stdout",
     "output_type": "stream",
     "text": [
      "malignant\n",
      "\n",
      "\n",
      "0    144277\n",
      "1     15294\n",
      "Name: malignant, dtype: int64\n"
     ]
    },
    {
     "data": {
      "image/png": "[encoded data removed]",
      "text/plain": [
       "<Figure size 432x288 with 1 Axes>"
      ]
     },
     "metadata": {
      "needs_background": "light"
     },
     "output_type": "display_data"
    },
    {
     "name": "stdout",
     "output_type": "stream",
     "text": [
      "highly_malignant\n",
      "\n",
      "\n",
      "0    157976\n",
      "1      1595\n",
      "Name: highly_malignant, dtype: int64\n"
     ]
    },
    {
     "data": {
      "image/png": "[encoded data removed]",
      "text/plain": [
       "<Figure size 432x288 with 1 Axes>"
      ]
     },
     "metadata": {
      "needs_background": "light"
     },
     "output_type": "display_data"
    },
    {
     "name": "stdout",
     "output_type": "stream",
     "text": [
      "loathe\n",
      "\n",
      "\n",
      "0    158166\n",
      "1      1405\n",
      "Name: loathe, dtype: int64\n"
     ]
    },
    {
     "data": {
      "image/png": "[encoded data removed]",
      "text/plain": [
       "<Figure size 432x288 with 1 Axes>"
      ]
     },
     "metadata": {
      "needs_background": "light"
     },
     "output_type": "display_data"
    },
    {
     "name": "stdout",
     "output_type": "stream",
     "text": [
      "rude\n",
      "\n",
      "\n",
      "0    151122\n",
      "1      8449\n",
      "Name: rude, dtype: int64\n"
     ]
    },
    {
     "data": {
      "image/png": "[encoded data removed]",
      "text/plain": [
       "<Figure size 432x288 with 1 Axes>"
      ]
     },
     "metadata": {
      "needs_background": "light"
     },
     "output_type": "display_data"
    },
    {
     "name": "stdout",
     "output_type": "stream",
     "text": [
      "abuse\n",
      "\n",
      "\n",
      "0    151694\n",
      "1      7877\n",
      "Name: abuse, dtype: int64\n"
     ]
    },
    {
     "data": {
      "image/png": "[encoded data removed]",
      "text/plain": [
       "<Figure size 432x288 with 1 Axes>"
      ]
     },
     "metadata": {
      "needs_background": "light"
     },
     "output_type": "display_data"
    },
    {
     "name": "stdout",
     "output_type": "stream",
     "text": [
      "threat\n",
      "\n",
      "\n",
      "0    159093\n",
      "1       478\n",
      "Name: threat, dtype: int64\n"
     ]
    },
    {
     "data": {
      "image/png": "[encoded data removed]",
      "text/plain": [
       "<Figure size 432x288 with 1 Axes>"
      ]
     },
     "metadata": {
      "needs_background": "light"
     },
     "output_type": "display_data"
    }
   ],
   "source": [
    "var=['malignant','highly_malignant','loathe','rude','abuse','threat']\n",
    "for i in var:\n",
    "    print(i)\n",
    "    print(\"\\n\")\n",
    "    print(data[i].value_counts())\n",
    "    sns.countplot(data[i])\n",
    "    plt.show()"
   ]
  },
  {
   "cell_type": "markdown",
   "id": "793c358a",
   "metadata": {},
   "source": [
    "SO THERE ARE VERY FEW COMMENTS WHICH ARE BAD  IN COMPARISION OF THE GOOD COMMENTS"
   ]
  },
  {
   "cell_type": "code",
   "execution_count": 28,
   "id": "6284313d",
   "metadata": {},
   "outputs": [],
   "source": [
    "from nltk.stem import WordNetLemmatizer\n",
    "import nltk\n",
    "from nltk.corpus import  stopwords\n",
    "import string"
   ]
  },
  {
   "cell_type": "code",
   "execution_count": 30,
   "id": "7aba3b04",
   "metadata": {},
   "outputs": [
    {
     "data": {
      "text/html": [
       "<div>\n",
       "<style scoped>\n",
       "    .dataframe tbody tr th:only-of-type {\n",
       "        vertical-align: middle;\n",
       "    }\n",
       "\n",
       "    .dataframe tbody tr th {\n",
       "        vertical-align: top;\n",
       "    }\n",
       "\n",
       "    .dataframe thead th {\n",
       "        text-align: right;\n",
       "    }\n",
       "</style>\n",
       "<table border=\"1\" class=\"dataframe\">\n",
       "  <thead>\n",
       "    <tr style=\"text-align: right;\">\n",
       "      <th></th>\n",
       "      <th>id</th>\n",
       "      <th>comment_text</th>\n",
       "      <th>malignant</th>\n",
       "      <th>highly_malignant</th>\n",
       "      <th>rude</th>\n",
       "      <th>threat</th>\n",
       "      <th>abuse</th>\n",
       "      <th>loathe</th>\n",
       "      <th>length</th>\n",
       "    </tr>\n",
       "  </thead>\n",
       "  <tbody>\n",
       "    <tr>\n",
       "      <th>0</th>\n",
       "      <td>0000997932d777bf</td>\n",
       "      <td>Explanation\\nWhy the edits made under my usern...</td>\n",
       "      <td>0</td>\n",
       "      <td>0</td>\n",
       "      <td>0</td>\n",
       "      <td>0</td>\n",
       "      <td>0</td>\n",
       "      <td>0</td>\n",
       "      <td>264</td>\n",
       "    </tr>\n",
       "    <tr>\n",
       "      <th>1</th>\n",
       "      <td>000103f0d9cfb60f</td>\n",
       "      <td>D'aww! He matches this background colour I'm s...</td>\n",
       "      <td>0</td>\n",
       "      <td>0</td>\n",
       "      <td>0</td>\n",
       "      <td>0</td>\n",
       "      <td>0</td>\n",
       "      <td>0</td>\n",
       "      <td>112</td>\n",
       "    </tr>\n",
       "    <tr>\n",
       "      <th>2</th>\n",
       "      <td>000113f07ec002fd</td>\n",
       "      <td>Hey man, I'm really not trying to edit war. It...</td>\n",
       "      <td>0</td>\n",
       "      <td>0</td>\n",
       "      <td>0</td>\n",
       "      <td>0</td>\n",
       "      <td>0</td>\n",
       "      <td>0</td>\n",
       "      <td>233</td>\n",
       "    </tr>\n",
       "    <tr>\n",
       "      <th>3</th>\n",
       "      <td>0001b41b1c6bb37e</td>\n",
       "      <td>\"\\nMore\\nI can't make any real suggestions on ...</td>\n",
       "      <td>0</td>\n",
       "      <td>0</td>\n",
       "      <td>0</td>\n",
       "      <td>0</td>\n",
       "      <td>0</td>\n",
       "      <td>0</td>\n",
       "      <td>622</td>\n",
       "    </tr>\n",
       "    <tr>\n",
       "      <th>4</th>\n",
       "      <td>0001d958c54c6e35</td>\n",
       "      <td>You, sir, are my hero. Any chance you remember...</td>\n",
       "      <td>0</td>\n",
       "      <td>0</td>\n",
       "      <td>0</td>\n",
       "      <td>0</td>\n",
       "      <td>0</td>\n",
       "      <td>0</td>\n",
       "      <td>67</td>\n",
       "    </tr>\n",
       "    <tr>\n",
       "      <th>5</th>\n",
       "      <td>00025465d4725e87</td>\n",
       "      <td>\"\\n\\nCongratulations from me as well, use the ...</td>\n",
       "      <td>0</td>\n",
       "      <td>0</td>\n",
       "      <td>0</td>\n",
       "      <td>0</td>\n",
       "      <td>0</td>\n",
       "      <td>0</td>\n",
       "      <td>65</td>\n",
       "    </tr>\n",
       "    <tr>\n",
       "      <th>6</th>\n",
       "      <td>0002bcb3da6cb337</td>\n",
       "      <td>COCKSUCKER BEFORE YOU PISS AROUND ON MY WORK</td>\n",
       "      <td>1</td>\n",
       "      <td>1</td>\n",
       "      <td>1</td>\n",
       "      <td>0</td>\n",
       "      <td>1</td>\n",
       "      <td>0</td>\n",
       "      <td>44</td>\n",
       "    </tr>\n",
       "  </tbody>\n",
       "</table>\n",
       "</div>"
      ],
      "text/plain": [
       "                 id                                       comment_text  \\\n",
       "0  0000997932d777bf  Explanation\\nWhy the edits made under my usern...   \n",
       "1  000103f0d9cfb60f  D'aww! He matches this background colour I'm s...   \n",
       "2  000113f07ec002fd  Hey man, I'm really not trying to edit war. It...   \n",
       "3  0001b41b1c6bb37e  \"\\nMore\\nI can't make any real suggestions on ...   \n",
       "4  0001d958c54c6e35  You, sir, are my hero. Any chance you remember...   \n",
       "5  00025465d4725e87  \"\\n\\nCongratulations from me as well, use the ...   \n",
       "6  0002bcb3da6cb337       COCKSUCKER BEFORE YOU PISS AROUND ON MY WORK   \n",
       "\n",
       "   malignant  highly_malignant  rude  threat  abuse  loathe  length  \n",
       "0          0                 0     0       0      0       0     264  \n",
       "1          0                 0     0       0      0       0     112  \n",
       "2          0                 0     0       0      0       0     233  \n",
       "3          0                 0     0       0      0       0     622  \n",
       "4          0                 0     0       0      0       0      67  \n",
       "5          0                 0     0       0      0       0      65  \n",
       "6          1                 1     1       0      1       0      44  "
      ]
     },
     "execution_count": 30,
     "metadata": {},
     "output_type": "execute_result"
    }
   ],
   "source": [
    "data['length'] = data['comment_text'].str.len()\n",
    "data.head(7)"
   ]
  },
  {
   "cell_type": "code",
   "execution_count": 32,
   "id": "65f84d1e",
   "metadata": {},
   "outputs": [
    {
     "name": "stderr",
     "output_type": "stream",
     "text": [
      "[nltk_data] Downloading package stopwords to\n",
      "[nltk_data]     C:\\Users\\LENOVO\\AppData\\Roaming\\nltk_data...\n",
      "[nltk_data]   Unzipping corpora\\stopwords.zip.\n"
     ]
    },
    {
     "data": {
      "text/plain": [
       "True"
      ]
     },
     "execution_count": 32,
     "metadata": {},
     "output_type": "execute_result"
    }
   ],
   "source": [
    "import nltk\n",
    "nltk.download('stopwords')"
   ]
  },
  {
   "cell_type": "code",
   "execution_count": 34,
   "id": "3ac71d3d",
   "metadata": {},
   "outputs": [],
   "source": [
    "# Convert all messages to lower case\n",
    "data['comment_text'] = data['comment_text'].str.lower()"
   ]
  },
  {
   "cell_type": "code",
   "execution_count": 55,
   "id": "54eaffea",
   "metadata": {},
   "outputs": [],
   "source": [
    "df['comment_text'] = df['comment_text'].str.lower()"
   ]
  },
  {
   "cell_type": "code",
   "execution_count": 35,
   "id": "cf0e5d5a",
   "metadata": {},
   "outputs": [],
   "source": [
    "# Replace email addresses with 'email'\n",
    "data['comment_text'] = data['comment_text'].str.replace(r'^.+@[^\\.].*\\.[a-z]{2,}$','emailaddress')"
   ]
  },
  {
   "cell_type": "code",
   "execution_count": 56,
   "id": "604c831d",
   "metadata": {},
   "outputs": [],
   "source": [
    "df['comment_text'] = df['comment_text'].str.replace(r'^.+@[^\\.].*\\.[a-z]{2,}$','emailaddress')"
   ]
  },
  {
   "cell_type": "code",
   "execution_count": 36,
   "id": "11cc25ea",
   "metadata": {},
   "outputs": [],
   "source": [
    "# Replace URLs with 'webaddress'\n",
    "data['comment_text'] = data['comment_text'].str.replace(r'^http\\://[a-zA-Z0-9\\-\\.]+\\.[a-zA-Z]{2,3}(/\\S*)?$','webaddress')"
   ]
  },
  {
   "cell_type": "code",
   "execution_count": 57,
   "id": "576406d0",
   "metadata": {},
   "outputs": [],
   "source": [
    "df['comment_text'] = df['comment_text'].str.replace(r'^http\\://[a-zA-Z0-9\\-\\.]+\\.[a-zA-Z]{2,3}(/\\S*)?$','webaddress')"
   ]
  },
  {
   "cell_type": "code",
   "execution_count": 37,
   "id": "71d0eac0",
   "metadata": {},
   "outputs": [],
   "source": [
    "# Replace money symbols with 'moneysymb' (£ can by typed with ALT key + 156)\n",
    "data['comment_text'] = data['comment_text'].str.replace(r'£|\\$', 'dollers')"
   ]
  },
  {
   "cell_type": "code",
   "execution_count": 58,
   "id": "1d76728e",
   "metadata": {},
   "outputs": [],
   "source": [
    "df['comment_text'] = df['comment_text'].str.replace(r'£|\\$', 'dollers')"
   ]
  },
  {
   "cell_type": "code",
   "execution_count": 38,
   "id": "773353dd",
   "metadata": {},
   "outputs": [],
   "source": [
    "# Replace 10 digit phone numbers (formats include paranthesis, spaces, no spaces, dashes) with 'phonenumber'\n",
    "data['comment_text'] = data['comment_text'].str.replace(r'^\\(?[\\d]{3}\\)?[\\s-]?[\\d]{3}[\\s-]?[\\d]{4}$','phonenumber')"
   ]
  },
  {
   "cell_type": "code",
   "execution_count": 59,
   "id": "6274355f",
   "metadata": {},
   "outputs": [],
   "source": [
    "df['comment_text'] = df['comment_text'].str.replace(r'^\\(?[\\d]{3}\\)?[\\s-]?[\\d]{3}[\\s-]?[\\d]{4}$','phonenumber')"
   ]
  },
  {
   "cell_type": "code",
   "execution_count": 39,
   "id": "95db2468",
   "metadata": {},
   "outputs": [],
   "source": [
    "# Replace numbers with 'numbr'\n",
    "data['comment_text'] = data['comment_text'].str.replace(r'\\d+(\\.\\d+)?', 'numbr')"
   ]
  },
  {
   "cell_type": "code",
   "execution_count": 60,
   "id": "56f144ad",
   "metadata": {},
   "outputs": [],
   "source": [
    "df['comment_text'] = df['comment_text'].str.replace(r'\\d+(\\.\\d+)?', 'numbr')"
   ]
  },
  {
   "cell_type": "code",
   "execution_count": 40,
   "id": "97601284",
   "metadata": {},
   "outputs": [],
   "source": [
    "data['comment_text'] = data['comment_text'].apply(lambda x: ' '.join(term for term in x.split() if term not in string.punctuation))"
   ]
  },
  {
   "cell_type": "code",
   "execution_count": 61,
   "id": "ad994c87",
   "metadata": {},
   "outputs": [],
   "source": [
    "df['comment_text'] = df['comment_text'].apply(lambda x: ' '.join(term for term in x.split() if term not in string.punctuation))"
   ]
  },
  {
   "cell_type": "code",
   "execution_count": 41,
   "id": "f0bebad6",
   "metadata": {},
   "outputs": [],
   "source": [
    "stop_words = set(stopwords.words('english') + ['u', 'ü', 'ur', '4', '2', 'im', 'dont', 'doin', 'ure'])"
   ]
  },
  {
   "cell_type": "code",
   "execution_count": 42,
   "id": "c189e817",
   "metadata": {},
   "outputs": [],
   "source": [
    "data['comment_text'] = data['comment_text'].apply(lambda x: ' '.join(term for term in x.split() if term not in stop_words))\n"
   ]
  },
  {
   "cell_type": "code",
   "execution_count": 62,
   "id": "9f475a65",
   "metadata": {},
   "outputs": [],
   "source": [
    "df['comment_text'] = df['comment_text'].apply(lambda x: ' '.join(term for term in x.split() if term not in stop_words))\n"
   ]
  },
  {
   "cell_type": "code",
   "execution_count": 44,
   "id": "ebd6a579",
   "metadata": {},
   "outputs": [
    {
     "name": "stderr",
     "output_type": "stream",
     "text": [
      "[nltk_data] Downloading package wordnet to\n",
      "[nltk_data]     C:\\Users\\LENOVO\\AppData\\Roaming\\nltk_data...\n"
     ]
    },
    {
     "data": {
      "text/plain": [
       "True"
      ]
     },
     "execution_count": 44,
     "metadata": {},
     "output_type": "execute_result"
    }
   ],
   "source": [
    "import nltk\n",
    "nltk.download('wordnet')"
   ]
  },
  {
   "cell_type": "code",
   "execution_count": 45,
   "id": "59ec04cb",
   "metadata": {},
   "outputs": [],
   "source": [
    "lem=WordNetLemmatizer()\n",
    "\n",
    "data['comment_text'] = data['comment_text'].apply(lambda x: ' '.join(lem.lemmatize(t) for t in x.split()))"
   ]
  },
  {
   "cell_type": "code",
   "execution_count": 63,
   "id": "06465c88",
   "metadata": {},
   "outputs": [],
   "source": [
    "df['comment_text'] = df['comment_text'].apply(lambda x: ' '.join(lem.lemmatize(t) for t in x.split()))"
   ]
  },
  {
   "cell_type": "code",
   "execution_count": 49,
   "id": "55d1ae89",
   "metadata": {},
   "outputs": [
    {
     "data": {
      "text/html": [
       "<div>\n",
       "<style scoped>\n",
       "    .dataframe tbody tr th:only-of-type {\n",
       "        vertical-align: middle;\n",
       "    }\n",
       "\n",
       "    .dataframe tbody tr th {\n",
       "        vertical-align: top;\n",
       "    }\n",
       "\n",
       "    .dataframe thead th {\n",
       "        text-align: right;\n",
       "    }\n",
       "</style>\n",
       "<table border=\"1\" class=\"dataframe\">\n",
       "  <thead>\n",
       "    <tr style=\"text-align: right;\">\n",
       "      <th></th>\n",
       "      <th>id</th>\n",
       "      <th>comment_text</th>\n",
       "      <th>malignant</th>\n",
       "      <th>highly_malignant</th>\n",
       "      <th>rude</th>\n",
       "      <th>threat</th>\n",
       "      <th>abuse</th>\n",
       "      <th>loathe</th>\n",
       "      <th>length</th>\n",
       "      <th>clear_length</th>\n",
       "    </tr>\n",
       "  </thead>\n",
       "  <tbody>\n",
       "    <tr>\n",
       "      <th>0</th>\n",
       "      <td>0000997932d777bf</td>\n",
       "      <td>explanation edits made username hardcore metal...</td>\n",
       "      <td>0</td>\n",
       "      <td>0</td>\n",
       "      <td>0</td>\n",
       "      <td>0</td>\n",
       "      <td>0</td>\n",
       "      <td>0</td>\n",
       "      <td>264</td>\n",
       "      <td>180</td>\n",
       "    </tr>\n",
       "    <tr>\n",
       "      <th>1</th>\n",
       "      <td>000103f0d9cfb60f</td>\n",
       "      <td>d'aww! match background colour i'm seemingly s...</td>\n",
       "      <td>0</td>\n",
       "      <td>0</td>\n",
       "      <td>0</td>\n",
       "      <td>0</td>\n",
       "      <td>0</td>\n",
       "      <td>0</td>\n",
       "      <td>112</td>\n",
       "      <td>111</td>\n",
       "    </tr>\n",
       "    <tr>\n",
       "      <th>2</th>\n",
       "      <td>000113f07ec002fd</td>\n",
       "      <td>hey man, i'm really trying edit war. guy const...</td>\n",
       "      <td>0</td>\n",
       "      <td>0</td>\n",
       "      <td>0</td>\n",
       "      <td>0</td>\n",
       "      <td>0</td>\n",
       "      <td>0</td>\n",
       "      <td>233</td>\n",
       "      <td>149</td>\n",
       "    </tr>\n",
       "    <tr>\n",
       "      <th>3</th>\n",
       "      <td>0001b41b1c6bb37e</td>\n",
       "      <td>can't make real suggestion improvement wondere...</td>\n",
       "      <td>0</td>\n",
       "      <td>0</td>\n",
       "      <td>0</td>\n",
       "      <td>0</td>\n",
       "      <td>0</td>\n",
       "      <td>0</td>\n",
       "      <td>622</td>\n",
       "      <td>397</td>\n",
       "    </tr>\n",
       "    <tr>\n",
       "      <th>4</th>\n",
       "      <td>0001d958c54c6e35</td>\n",
       "      <td>you, sir, hero. chance remember page that's on?</td>\n",
       "      <td>0</td>\n",
       "      <td>0</td>\n",
       "      <td>0</td>\n",
       "      <td>0</td>\n",
       "      <td>0</td>\n",
       "      <td>0</td>\n",
       "      <td>67</td>\n",
       "      <td>47</td>\n",
       "    </tr>\n",
       "  </tbody>\n",
       "</table>\n",
       "</div>"
      ],
      "text/plain": [
       "                 id                                       comment_text  \\\n",
       "0  0000997932d777bf  explanation edits made username hardcore metal...   \n",
       "1  000103f0d9cfb60f  d'aww! match background colour i'm seemingly s...   \n",
       "2  000113f07ec002fd  hey man, i'm really trying edit war. guy const...   \n",
       "3  0001b41b1c6bb37e  can't make real suggestion improvement wondere...   \n",
       "4  0001d958c54c6e35    you, sir, hero. chance remember page that's on?   \n",
       "\n",
       "   malignant  highly_malignant  rude  threat  abuse  loathe  length  \\\n",
       "0          0                 0     0       0      0       0     264   \n",
       "1          0                 0     0       0      0       0     112   \n",
       "2          0                 0     0       0      0       0     233   \n",
       "3          0                 0     0       0      0       0     622   \n",
       "4          0                 0     0       0      0       0      67   \n",
       "\n",
       "   clear_length  \n",
       "0           180  \n",
       "1           111  \n",
       "2           149  \n",
       "3           397  \n",
       "4            47  "
      ]
     },
     "execution_count": 49,
     "metadata": {},
     "output_type": "execute_result"
    }
   ],
   "source": [
    "data['clear_length'] = data.comment_text.str.len()\n",
    "data.head()"
   ]
  },
  {
   "cell_type": "code",
   "execution_count": 52,
   "id": "8ff7cdd0",
   "metadata": {},
   "outputs": [
    {
     "name": "stdout",
     "output_type": "stream",
     "text": [
      "Origian Length 62893130\n",
      "Clear lenght 43537267\n"
     ]
    }
   ],
   "source": [
    "# Total length removal\n",
    "print ('Origian Length', data.length.sum())\n",
    "print ('Clear lenght', data.clear_length.sum())"
   ]
  },
  {
   "cell_type": "code",
   "execution_count": 64,
   "id": "7e8985e0",
   "metadata": {},
   "outputs": [],
   "source": [
    "from sklearn.naive_bayes import MultinomialNB\n",
    "from sklearn.model_selection import train_test_split\n",
    "from sklearn.metrics import accuracy_score, confusion_matrix, classification_report,roc_curve,roc_auc_score,auc\n",
    "from sklearn.metrics import f1_score\n",
    "from sklearn.linear_model import LogisticRegression\n",
    "from sklearn.model_selection import cross_val_score,GridSearchCV\n",
    "from sklearn.tree import DecisionTreeClassifier\n",
    "from sklearn.neighbors import KNeighborsClassifier\n",
    "from sklearn.ensemble import RandomForestClassifier,AdaBoostClassifier,GradientBoostingClassifier\n",
    "from sklearn.naive_bayes import GaussianNB\n",
    "from sklearn.linear_model import LogisticRegression\n",
    "from sklearn.svm import SVC"
   ]
  },
  {
   "cell_type": "code",
   "execution_count": 65,
   "id": "23976118",
   "metadata": {},
   "outputs": [
    {
     "data": {
      "text/plain": [
       "<matplotlib.legend.Legend at 0x2b6934beb80>"
      ]
     },
     "execution_count": 65,
     "metadata": {},
     "output_type": "execute_result"
    },
    {
     "data": {
      "image/png": "[encoded data removed]",
      "text/plain": [
       "<Figure size 360x360 with 1 Axes>"
      ]
     },
     "metadata": {},
     "output_type": "display_data"
    }
   ],
   "source": [
    "cols_target = ['malignant','highly_malignant','rude','threat','abuse','loathe']\n",
    "data_distribution = data[cols_target].sum()\\\n",
    "                            .to_frame()\\\n",
    "                            .rename(columns={0: 'count'})\\\n",
    "                            .sort_values('count')\n",
    "\n",
    "data_distribution.plot.pie(y='count',\n",
    "                                      title='Label distribution over comments',\n",
    "                                      figsize=(5, 5))\\\n",
    "                            .legend(loc='center left', bbox_to_anchor=(1.3, 0.5))"
   ]
  },
  {
   "cell_type": "markdown",
   "id": "3ddaf9ab",
   "metadata": {},
   "source": [
    "MORE COMMENTS ARE MALIGNANT IN NATURE AS THE PIE CHART SHOWS"
   ]
  },
  {
   "cell_type": "code",
   "execution_count": 66,
   "id": "22581eb7",
   "metadata": {},
   "outputs": [
    {
     "name": "stdout",
     "output_type": "stream",
     "text": [
      "0    143346\n",
      "1      6360\n",
      "3      4209\n",
      "2      3480\n",
      "4      1760\n",
      "5       385\n",
      "6        31\n",
      "Name: bad, dtype: int64\n",
      "0    143346\n",
      "1     16225\n",
      "Name: bad, dtype: int64\n"
     ]
    }
   ],
   "source": [
    "target_data = data[cols_target]\n",
    "\n",
    "data['bad'] =data[cols_target].sum(axis =1)\n",
    "print(data['bad'].value_counts())\n",
    "data['bad'] = data['bad'] > 0 \n",
    "data['bad'] = data['bad'].astype(int)\n",
    "print(data['bad'].value_counts())"
   ]
  },
  {
   "cell_type": "code",
   "execution_count": 67,
   "id": "42d31e75",
   "metadata": {},
   "outputs": [
    {
     "data": {
      "image/png": "[encoded data removed]",
      "text/plain": [
       "<Figure size 432x288 with 1 Axes>"
      ]
     },
     "metadata": {},
     "output_type": "display_data"
    }
   ],
   "source": [
    "sns.set()\n",
    "sns.countplot(x=\"bad\" , data = data)\n",
    "plt.show()"
   ]
  },
  {
   "cell_type": "code",
   "execution_count": 69,
   "id": "1020896e",
   "metadata": {},
   "outputs": [],
   "source": [
    "#  Convert text into vectors using TF-IDF\n",
    "\n",
    "from sklearn.feature_extraction.text import TfidfVectorizer\n",
    "tf_vec = TfidfVectorizer(max_features = 10000, stop_words='english')\n",
    "features = tf_vec.fit_transform(data['comment_text'])\n",
    "x = features"
   ]
  },
  {
   "cell_type": "code",
   "execution_count": 70,
   "id": "7f6da7f2",
   "metadata": {},
   "outputs": [
    {
     "data": {
      "text/plain": [
       "((159571, 11), (153164, 2))"
      ]
     },
     "execution_count": 70,
     "metadata": {},
     "output_type": "execute_result"
    }
   ],
   "source": [
    "data.shape, df.shape"
   ]
  },
  {
   "cell_type": "code",
   "execution_count": 71,
   "id": "086a8ee9",
   "metadata": {},
   "outputs": [],
   "source": [
    "y=data['bad']\n",
    "x_train,x_test,y_train,y_test=train_test_split(x,y,random_state=56,test_size=.30)"
   ]
  },
  {
   "cell_type": "code",
   "execution_count": 72,
   "id": "7b6676a1",
   "metadata": {},
   "outputs": [
    {
     "data": {
      "text/plain": [
       "((111699,), (47872,))"
      ]
     },
     "execution_count": 72,
     "metadata": {},
     "output_type": "execute_result"
    }
   ],
   "source": [
    "y_train.shape,y_test.shape"
   ]
  },
  {
   "cell_type": "markdown",
   "id": "eeb8a675",
   "metadata": {},
   "source": [
    "# LogisticRegression"
   ]
  },
  {
   "cell_type": "code",
   "execution_count": 73,
   "id": "e3cf2e5c",
   "metadata": {},
   "outputs": [
    {
     "name": "stdout",
     "output_type": "stream",
     "text": [
      "Training accuracy is 0.9595520103134316\n",
      "Test accuracy is 0.9552139037433155\n",
      "[[42729   221]\n",
      " [ 1923  2999]]\n",
      "              precision    recall  f1-score   support\n",
      "\n",
      "           0       0.96      0.99      0.98     42950\n",
      "           1       0.93      0.61      0.74      4922\n",
      "\n",
      "    accuracy                           0.96     47872\n",
      "   macro avg       0.94      0.80      0.86     47872\n",
      "weighted avg       0.95      0.96      0.95     47872\n",
      "\n"
     ]
    }
   ],
   "source": [
    "\n",
    "LG = LogisticRegression(C=1, max_iter = 3000)\n",
    "\n",
    "LG.fit(x_train, y_train)\n",
    "\n",
    "y_pred_train = LG.predict(x_train)\n",
    "print('Training accuracy is {}'.format(accuracy_score(y_train, y_pred_train)))\n",
    "y_pred_test = LG.predict(x_test)\n",
    "print('Test accuracy is {}'.format(accuracy_score(y_test,y_pred_test)))\n",
    "print(confusion_matrix(y_test,y_pred_test))\n",
    "print(classification_report(y_test,y_pred_test))"
   ]
  },
  {
   "cell_type": "markdown",
   "id": "86af8e57",
   "metadata": {},
   "source": [
    "# DecisionTreeClassifier"
   ]
  },
  {
   "cell_type": "code",
   "execution_count": 74,
   "id": "2a1f935d",
   "metadata": {},
   "outputs": [
    {
     "name": "stdout",
     "output_type": "stream",
     "text": [
      "Training accuracy is 0.9988092999937331\n",
      "Test accuracy is 0.9402364639037433\n",
      "[[41616  1334]\n",
      " [ 1527  3395]]\n",
      "              precision    recall  f1-score   support\n",
      "\n",
      "           0       0.96      0.97      0.97     42950\n",
      "           1       0.72      0.69      0.70      4922\n",
      "\n",
      "    accuracy                           0.94     47872\n",
      "   macro avg       0.84      0.83      0.84     47872\n",
      "weighted avg       0.94      0.94      0.94     47872\n",
      "\n"
     ]
    }
   ],
   "source": [
    "\n",
    "DT = DecisionTreeClassifier()\n",
    "\n",
    "DT.fit(x_train, y_train)\n",
    "y_pred_train = DT.predict(x_train)\n",
    "print('Training accuracy is {}'.format(accuracy_score(y_train, y_pred_train)))\n",
    "y_pred_test = DT.predict(x_test)\n",
    "print('Test accuracy is {}'.format(accuracy_score(y_test,y_pred_test)))\n",
    "print(confusion_matrix(y_test,y_pred_test))\n",
    "print(classification_report(y_test,y_pred_test))"
   ]
  },
  {
   "cell_type": "markdown",
   "id": "fb8e4538",
   "metadata": {},
   "source": [
    "# RandomForestClassifier"
   ]
  },
  {
   "cell_type": "code",
   "execution_count": 75,
   "id": "51b88d07",
   "metadata": {},
   "outputs": [
    {
     "name": "stdout",
     "output_type": "stream",
     "text": [
      "Training accuracy is 0.9987645368356028\n",
      "Test accuracy is 0.9552139037433155\n",
      "[[42419   531]\n",
      " [ 1613  3309]]\n",
      "              precision    recall  f1-score   support\n",
      "\n",
      "           0       0.96      0.99      0.98     42950\n",
      "           1       0.86      0.67      0.76      4922\n",
      "\n",
      "    accuracy                           0.96     47872\n",
      "   macro avg       0.91      0.83      0.87     47872\n",
      "weighted avg       0.95      0.96      0.95     47872\n",
      "\n"
     ]
    }
   ],
   "source": [
    "\n",
    "RF = RandomForestClassifier()\n",
    "\n",
    "RF.fit(x_train, y_train)\n",
    "y_pred_train = RF.predict(x_train)\n",
    "print('Training accuracy is {}'.format(accuracy_score(y_train, y_pred_train)))\n",
    "y_pred_test = RF.predict(x_test)\n",
    "print('Test accuracy is {}'.format(accuracy_score(y_test,y_pred_test)))\n",
    "print(confusion_matrix(y_test,y_pred_test))\n",
    "print(classification_report(y_test,y_pred_test))"
   ]
  },
  {
   "cell_type": "markdown",
   "id": "0719adae",
   "metadata": {},
   "source": [
    "# KNeighborsClassifier"
   ]
  },
  {
   "cell_type": "code",
   "execution_count": 76,
   "id": "190ae4de",
   "metadata": {},
   "outputs": [
    {
     "name": "stdout",
     "output_type": "stream",
     "text": [
      "Training accuracy is 0.9223627785387515\n",
      "Test accuracy is 0.917697192513369\n",
      "[[42812   138]\n",
      " [ 3802  1120]]\n",
      "              precision    recall  f1-score   support\n",
      "\n",
      "           0       0.92      1.00      0.96     42950\n",
      "           1       0.89      0.23      0.36      4922\n",
      "\n",
      "    accuracy                           0.92     47872\n",
      "   macro avg       0.90      0.61      0.66     47872\n",
      "weighted avg       0.92      0.92      0.89     47872\n",
      "\n"
     ]
    }
   ],
   "source": [
    "\n",
    "knn=KNeighborsClassifier(n_neighbors=9)\n",
    "knn.fit(x_train, y_train)\n",
    "y_pred_train = knn.predict(x_train)\n",
    "print('Training accuracy is {}'.format(accuracy_score(y_train, y_pred_train)))\n",
    "y_pred_test = knn.predict(x_test)\n",
    "print('Test accuracy is {}'.format(accuracy_score(y_test,y_pred_test)))\n",
    "print(confusion_matrix(y_test,y_pred_test))\n",
    "print(classification_report(y_test,y_pred_test))"
   ]
  },
  {
   "cell_type": "markdown",
   "id": "efd4b012",
   "metadata": {},
   "source": [
    "# GradientBoostingClassifier"
   ]
  },
  {
   "cell_type": "code",
   "execution_count": 77,
   "id": "4639b590",
   "metadata": {},
   "outputs": [
    {
     "name": "stdout",
     "output_type": "stream",
     "text": [
      "Training accuracy is 0.9250306627633192\n",
      "Test accuracy is 0.9227105614973262\n",
      "[[42904    46]\n",
      " [ 3654  1268]]\n",
      "              precision    recall  f1-score   support\n",
      "\n",
      "           0       0.92      1.00      0.96     42950\n",
      "           1       0.96      0.26      0.41      4922\n",
      "\n",
      "    accuracy                           0.92     47872\n",
      "   macro avg       0.94      0.63      0.68     47872\n",
      "weighted avg       0.93      0.92      0.90     47872\n",
      "\n"
     ]
    }
   ],
   "source": [
    "\n",
    "grd=GradientBoostingClassifier(n_estimators=20)\n",
    "grd.fit(x_train, y_train)\n",
    "y_pred_train = grd.predict(x_train)\n",
    "print('Training accuracy is {}'.format(accuracy_score(y_train, y_pred_train)))\n",
    "y_pred_test = grd.predict(x_test)\n",
    "print('Test accuracy is {}'.format(accuracy_score(y_test,y_pred_test)))\n",
    "print(confusion_matrix(y_test,y_pred_test))\n",
    "print(classification_report(y_test,y_pred_test))"
   ]
  },
  {
   "cell_type": "code",
   "execution_count": 78,
   "id": "ce632517",
   "metadata": {},
   "outputs": [
    {
     "data": {
      "image/png": "[encoded data removed]",
      "text/plain": [
       "<Figure size 432x288 with 1 Axes>"
      ]
     },
     "metadata": {},
     "output_type": "display_data"
    }
   ],
   "source": [
    "#Plotting the graph which tells us about the area under curve , more the area under curve more will be the better prediction\n",
    "# model is performing good :\n",
    "\n",
    "\n",
    "fpr,tpr,thresholds=roc_curve(y_test,y_pred_test)\n",
    "roc_auc=auc(fpr,tpr)\n",
    "plt.plot([0,1],[1,0],'k--')\n",
    "plt.plot(fpr,tpr,label = 'RF Classifier')\n",
    "plt.xlabel('False positive rate')\n",
    "plt.ylabel('True positive rate')\n",
    "plt.title('RF CLASSIFIER')\n",
    "plt.show()"
   ]
  },
  {
   "cell_type": "markdown",
   "id": "5a1c5e4e",
   "metadata": {},
   "source": [
    "# So the difference between the cross val score and the accuracy score is  minimun for the Random forest SO WE USED THIS algo\n",
    "\n",
    "\n",
    "BUT BEFORE USED HYPERPARAMETER TUNING WITH GRIDSEARCHCV"
   ]
  },
  {
   "cell_type": "code",
   "execution_count": 82,
   "id": "4675185d",
   "metadata": {},
   "outputs": [],
   "source": [
    "from sklearn.model_selection import GridSearchCV"
   ]
  },
  {
   "cell_type": "code",
   "execution_count": 84,
   "id": "04cf68ca",
   "metadata": {},
   "outputs": [
    {
     "name": "stdout",
     "output_type": "stream",
     "text": [
      "{'max_depth': 2, 'min_samples_leaf': 2, 'min_samples_split': 3, 'n_estimators': 20}\n"
     ]
    }
   ],
   "source": [
    "parameters = {'max_depth':range(2,4),'min_samples_leaf':range(2,4),'min_samples_split':range(2,4),'n_estimators':[20,30,60,80]}\n",
    "\n",
    "clf = GridSearchCV(RF,parameters)\n",
    "clf.fit(x_train,y_train)\n",
    "\n",
    "print(clf.best_params_)"
   ]
  },
  {
   "cell_type": "code",
   "execution_count": 85,
   "id": "e7c0ed25",
   "metadata": {},
   "outputs": [],
   "source": [
    "rf = RandomForestClassifier(max_depth= 2, min_samples_leaf=2, min_samples_split= 3, n_estimators= 20)"
   ]
  },
  {
   "cell_type": "code",
   "execution_count": 86,
   "id": "657dc50f",
   "metadata": {},
   "outputs": [
    {
     "data": {
      "text/plain": [
       "RandomForestClassifier(max_depth=2, min_samples_leaf=2, min_samples_split=3,\n",
       "                       n_estimators=20)"
      ]
     },
     "execution_count": 86,
     "metadata": {},
     "output_type": "execute_result"
    }
   ],
   "source": [
    "rf.fit(x_train,y_train)"
   ]
  },
  {
   "cell_type": "code",
   "execution_count": 87,
   "id": "ec3eed99",
   "metadata": {},
   "outputs": [],
   "source": [
    "y_pred = rf.predict(x_test)"
   ]
  },
  {
   "cell_type": "code",
   "execution_count": 88,
   "id": "4bb64798",
   "metadata": {},
   "outputs": [
    {
     "data": {
      "text/plain": [
       "array([[42950,     0],\n",
       "       [ 4922,     0]], dtype=int64)"
      ]
     },
     "execution_count": 88,
     "metadata": {},
     "output_type": "execute_result"
    }
   ],
   "source": [
    "cfm = confusion_matrix(y_test,y_pred)\n",
    "cfm"
   ]
  },
  {
   "cell_type": "code",
   "execution_count": 89,
   "id": "723210c0",
   "metadata": {},
   "outputs": [
    {
     "name": "stdout",
     "output_type": "stream",
     "text": [
      "              precision    recall  f1-score   support\n",
      "\n",
      "           0       0.90      1.00      0.95     42950\n",
      "           1       0.00      0.00      0.00      4922\n",
      "\n",
      "    accuracy                           0.90     47872\n",
      "   macro avg       0.45      0.50      0.47     47872\n",
      "weighted avg       0.80      0.90      0.85     47872\n",
      "\n"
     ]
    }
   ],
   "source": [
    "print(classification_report(y_test,y_pred))"
   ]
  },
  {
   "cell_type": "code",
   "execution_count": 90,
   "id": "dafcb0ea",
   "metadata": {},
   "outputs": [
    {
     "name": "stdout",
     "output_type": "stream",
     "text": [
      "ACCURACY 0.8971841577540107\n"
     ]
    }
   ],
   "source": [
    "print(\"ACCURACY\",accuracy_score(y_test,y_pred))"
   ]
  },
  {
   "cell_type": "markdown",
   "id": "cc5c8f1a",
   "metadata": {},
   "source": [
    "So after hypertuning its accuracy score decreases but confusion matrix shows tht it has zero False positives"
   ]
  },
  {
   "cell_type": "markdown",
   "id": "4964beca",
   "metadata": {},
   "source": [
    "# LETS PREDICT THIS WITH MY TEST DATA"
   ]
  },
  {
   "cell_type": "code",
   "execution_count": 79,
   "id": "965ecd7a",
   "metadata": {},
   "outputs": [
    {
     "data": {
      "text/plain": [
       "<153164x10000 sparse matrix of type '<class 'numpy.float64'>'\n",
       "\twith 2831741 stored elements in Compressed Sparse Row format>"
      ]
     },
     "execution_count": 79,
     "metadata": {},
     "output_type": "execute_result"
    }
   ],
   "source": [
    "#) FIRST CHANE OUR TEST DATA INTO VECTOR FORM\n",
    "\n",
    "test_data =tf_vec.fit_transform(df['comment_text'])\n",
    "test_data"
   ]
  },
  {
   "cell_type": "code",
   "execution_count": 80,
   "id": "6b14ad6a",
   "metadata": {},
   "outputs": [
    {
     "data": {
      "text/plain": [
       "array([0, 0, 0, ..., 0, 0, 0])"
      ]
     },
     "execution_count": 80,
     "metadata": {},
     "output_type": "execute_result"
    }
   ],
   "source": [
    "prediction=RF.predict(test_data)\n",
    "prediction"
   ]
  },
  {
   "cell_type": "code",
   "execution_count": 102,
   "id": "3e3c0418",
   "metadata": {},
   "outputs": [
    {
     "data": {
      "text/html": [
       "<div>\n",
       "<style scoped>\n",
       "    .dataframe tbody tr th:only-of-type {\n",
       "        vertical-align: middle;\n",
       "    }\n",
       "\n",
       "    .dataframe tbody tr th {\n",
       "        vertical-align: top;\n",
       "    }\n",
       "\n",
       "    .dataframe thead th {\n",
       "        text-align: right;\n",
       "    }\n",
       "</style>\n",
       "<table border=\"1\" class=\"dataframe\">\n",
       "  <thead>\n",
       "    <tr style=\"text-align: right;\">\n",
       "      <th></th>\n",
       "      <th>0</th>\n",
       "    </tr>\n",
       "  </thead>\n",
       "  <tbody>\n",
       "    <tr>\n",
       "      <th>0</th>\n",
       "      <td>0</td>\n",
       "    </tr>\n",
       "    <tr>\n",
       "      <th>1</th>\n",
       "      <td>0</td>\n",
       "    </tr>\n",
       "    <tr>\n",
       "      <th>2</th>\n",
       "      <td>0</td>\n",
       "    </tr>\n",
       "    <tr>\n",
       "      <th>3</th>\n",
       "      <td>0</td>\n",
       "    </tr>\n",
       "    <tr>\n",
       "      <th>4</th>\n",
       "      <td>0</td>\n",
       "    </tr>\n",
       "  </tbody>\n",
       "</table>\n",
       "</div>"
      ],
      "text/plain": [
       "   0\n",
       "0  0\n",
       "1  0\n",
       "2  0\n",
       "3  0\n",
       "4  0"
      ]
     },
     "execution_count": 102,
     "metadata": {},
     "output_type": "execute_result"
    }
   ],
   "source": [
    "pred = pd.DataFrame(prediction)\n",
    "pred.head()"
   ]
  },
  {
   "cell_type": "code",
   "execution_count": 99,
   "id": "ea8ee6cb",
   "metadata": {},
   "outputs": [
    {
     "data": {
      "text/plain": [
       "0    141684\n",
       "1     11480\n",
       "dtype: int64"
      ]
     },
     "execution_count": 99,
     "metadata": {},
     "output_type": "execute_result"
    }
   ],
   "source": [
    "pred.value_counts()"
   ]
  },
  {
   "cell_type": "code",
   "execution_count": 103,
   "id": "462b9304",
   "metadata": {},
   "outputs": [],
   "source": [
    "import pickle\n",
    "filename = 'Malignant.pickle'\n",
    "pickle.dump(RF,open(filename,'wb'))"
   ]
  },
  {
   "cell_type": "markdown",
   "id": "a1db535d",
   "metadata": {},
   "source": [
    "# HENCE MY MODEL IS COMPLETED"
   ]
  },
  {
   "cell_type": "code",
   "execution_count": null,
   "id": "f712e28c",
   "metadata": {},
   "outputs": [],
   "source": []
  }
 ],
 "metadata": {
  "kernelspec": {
   "display_name": "Python 3 (ipykernel)",
   "language": "python",
   "name": "python3"
  },
  "language_info": {
   "codemirror_mode": {
    "name": "ipython",
    "version": 3
   },
   "file_extension": ".py",
   "mimetype": "text/x-python",
   "name": "python",
   "nbconvert_exporter": "python",
   "pygments_lexer": "ipython3",
   "version": "3.9.7"
  }
 },
 "nbformat": 4,
 "nbformat_minor": 5
}
